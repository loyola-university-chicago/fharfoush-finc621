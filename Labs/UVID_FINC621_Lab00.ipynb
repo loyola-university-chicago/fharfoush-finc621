{
 "cells": [
  {
   "cell_type": "markdown",
   "metadata": {
    "deletable": false,
    "editable": false,
    "run_control": {
     "frozen": true
    }
   },
   "source": [
    "# FINC621 Winter 2018-2019 Lab Worksheet 0  \n",
    "  **Getting to know Jupyter Notebook**  \n",
    "  Fady Harfoush  \n",
    "  November 20, 2018  \n",
    "    \n",
    "## About  \n",
    "  This worksheet is a primer to using Jupyter Notebook.  Jupyter Notebook is a powerful tool because it lets us mix Python code blocks together with Markdown text.  This allows us to create detailed visualizations alongside our explanations.  \n",
    "  \n",
    "---  \n",
    "  "
   ]
  },
  {
   "cell_type": "markdown",
   "metadata": {
    "deletable": false,
    "editable": false,
    "run_control": {
     "frozen": true
    }
   },
   "source": [
    "## **1. Getting to know the layout**\n",
    "\n",
    "There are several important sections of the screen, and in this section, we will cover each one.  First, let's take a look at the top most portion of the Jupyter screen.  \n",
    "  \n",
    "![Figure 1](Images/figure1.png)  \n",
    "  \n",
    "### Naming conventions  \n",
    "  \n",
    "This bar shows you the name of your Notebook, as well as the status of any changes that are not yet saved.  You can change the name by clicking on the title.  As you can see, the lab is currently named **UVID_FINC621_Lab00**.  The first step of completing any lab is to change the file name to the proper naming convention.  Replace UVID with your actual Loyola UVID.  For instance, as your instructor, my file name would be, **fharfoush_FINC621_Lab00**.\n",
    "  \n",
    "### Downloading completed labs  \n",
    "\n",
    "The File menu also has some important items to familiarize yourself with.  First, click **File**, and then click **Download as**.  You will see many options, but the correct one is simply the top option.  \n",
    "  \n",
    "![Figure 2](Images/figure2.png)  \n",
    "  \n",
    "This takes the saved notebook and downloads it directly to your computer.  You will need to download your completed lab notebooks in this way in order to submit them to Sakai.  There is no need to download the file at this time.  \n",
    "  \n",
    "### Running the notebook  \n",
    "  \n",
    "The next item is in the **Cell** menu.  Within, there is an option to **Run all**.  \n",
    "![Figure 3](Images/figure3.png)  \n",
    "  \n",
    "You can also run each cell one at a time by clicking the **>| Run** button.  Keep in mind that a notebook typically needs to be executed in order from top to bottom.  \n",
    "  \n",
    "  ![Figure 11](Images/figure11.png)  \n",
    "  \n",
    "### Resetting the notebook  \n",
    "  \n",
    "Finally, one of the most important items in the File menu is an option within the **Kernel** menu.  This option is called **Restart and Clear Output**.  \n",
    "  \n",
    "![Figure 4](Images/figure4.png)  \n",
    "  \n",
    "Clicking this option will clear all the executed python code out of memory.  When your Python code isn't working quite right, clearing the output and running things from the beginning is a good first step in debugging what the problem is, and where it is coming from.  Don't worry, your code get get erased, just the previous executions of it in memory.   \n",
    "Now that we have looked at the File menu, lets look directly below it to the toolbar.  Not every button on the toolbar is relevant to the class, but become familiar with the following sections:  \n",
    "  \n",
    "### Adding to the notebook\n",
    "  \n",
    "This is where you can save the document, cut/copy/paste, move cell orders around, and most importantly, add a new cell below your currently selected cell.  To do this, push the + button.  \n",
    "![Figure 6](Images/figure6.png)  \n",
    "   \n",
    "### Setting the cell type **(important)**  \n",
    "  \n",
    "This button is what allows you to choose the type of cell that you will use.  For instance, the cell you are currently reading is a **Markdown** cell.  Markdown is a scripting language that allows you to format text.  It is similar to the look and feel of a Microsoft Word document.  \n",
    "  \n",
    "In contrast, selecting **Code**, defines the cell as a python block.  \n",
    "![Figure 8](Images/figure8.png)  \n",
    "  \n",
    "### Note about python comments  \n",
    "  \n",
    "Within a code cell, we often type comments to let others know what our code is supposed to do.  To create a python comment, start a line with a hashtag, like this:  \n",
    "  \n",
    "![Figure 29](Images/figure29.png)  \n",
    "  \n",
    "This lab has numerous code blocks already created, and are ready for you to put answers into.  These sections typically look like the figure below.  \n",
    "  \n",
    "![Figure 28](Images/figure28.png)  \n",
    "\n",
    "  \n",
    "### Tools  \n",
    "  \n",
    "There are several items here that you are free to explore, but are not required.\n",
    "  \n",
    "![Figure 9](Images/figure10.png)  \n",
    "  \n",
    "The important ones are:  \n",
    "  \n",
    "**Variable inspector -** This lets you view the values inside the variables of your python code.  \n",
    "**Lock and freeze cells -** These let you make a cell read-only.  You shouldn't need to use these buttons yourself.  \n",
    "**Spell checker -** This toggles the spell checker on and off.  \n",
    "**Table of contents -** This toggles the TOC on and off.  \n",
    "  \n",
    "---"
   ]
  },
  {
   "cell_type": "markdown",
   "metadata": {
    "deletable": false,
    "editable": false,
    "run_control": {
     "frozen": true
    }
   },
   "source": [
    "## 2. Assignment Submission and Important Notes\n",
    "  \n",
    "For clarity, questions that need to be completed are <span class=\"mark\">highlighted in yellow and red color</span>.  As a general rule of thumb, you need to execute the cells in the notebook sequentially.  If something isn't working, it's never a bad idea to click **Kernel** from the file menu, and then **Reset & Clear Output**.  \n",
    "  \n",
    "When finished, download the file as a Notebook(.ipynb) and submit to Sakai.  Be sure to use following the naming convention:  UVID_FINC621_Lab##.ipynb  \n",
    "  \n",
    "For instance, if I were to be submitting the file, it should be named:  fharfoush_FINC621_Lab00.ipynb  \n",
    "  \n",
    "**Any signs of plagiarism will results in dismissal of work!**\n",
    "  \n",
    "  ---"
   ]
  },
  {
   "cell_type": "markdown",
   "metadata": {
    "deletable": false,
    "editable": false,
    "run_control": {
     "frozen": true
    }
   },
   "source": [
    "## 3.  Hello World  \n",
    "  \n",
    "This is a simple example in how to get started using Python in Jupyter Notebook.  We are going to print a simple statement to the screen.  "
   ]
  },
  {
   "cell_type": "markdown",
   "metadata": {
    "deletable": false,
    "editable": false,
    "run_control": {
     "frozen": true
    },
    "tags": [
     "Question"
    ]
   },
   "source": [
    "#### <span class=\"mark\">Task 1.  Intro to Python</span>\n",
    "Step 1.  Click on the empty code block directly below this one.  \n",
    "Step 2.  Type the following code:  \n",
    "**print('Hello World.  I am programming in Python!')**  \n",
    "Step 3.  Run the code by pushing the **>| Run** button."
   ]
  },
  {
   "cell_type": "code",
   "execution_count": null,
   "metadata": {
    "tags": [
     "Answer"
    ]
   },
   "outputs": [],
   "source": [
    "# Add your code here\n"
   ]
  },
  {
   "cell_type": "markdown",
   "metadata": {
    "deletable": false,
    "editable": false,
    "run_control": {
     "frozen": true
    }
   },
   "source": [
    "Let's expand upon the previous example.  For this we will use a variable.  A variable is simply a container that can store a value.  We can call the variable anything we want(for the most part).  For this example, lets store our name in a variable called **first_name**.  Let's also store our age in a variable called **age**.  If you don't want to reveal your true age, just use 21.  \n",
    "  "
   ]
  },
  {
   "cell_type": "markdown",
   "metadata": {
    "deletable": false,
    "editable": false,
    "run_control": {
     "frozen": true
    },
    "tags": [
     "Question"
    ]
   },
   "source": [
    "#### <span class=\"mark\">Task 2.  Python variables</span>  \n",
    "  \n",
    "Step 1.  Click on the empty code block directly below this one.  \n",
    "Step 2.  Type the following code:  \n",
    "  \n",
    "**first_name = 'Your first name'**  \n",
    "**age = 21**  \n",
    "**print('Hello World.  My name is', first_name, 'and my age is', age)**  "
   ]
  },
  {
   "cell_type": "code",
   "execution_count": null,
   "metadata": {
    "tags": [
     "Answer"
    ]
   },
   "outputs": [],
   "source": [
    "# Add your code here\n"
   ]
  },
  {
   "cell_type": "markdown",
   "metadata": {
    "deletable": false,
    "editable": false,
    "run_control": {
     "frozen": true
    }
   },
   "source": [
    "Notice that the python code that you executed in the previous code block can be used in the following code block.  Give yourself a birthday by running the next code block."
   ]
  },
  {
   "cell_type": "code",
   "execution_count": null,
   "metadata": {
    "tags": [
     "Answer"
    ]
   },
   "outputs": [],
   "source": [
    "age = age + 1\n",
    "print('But on my birthday, I will be: ', age)"
   ]
  },
  {
   "cell_type": "markdown",
   "metadata": {
    "deletable": false,
    "editable": false,
    "run_control": {
     "frozen": true
    }
   },
   "source": [
    "## 4.  Mathematical Symbols in Markdown  \n",
    "The use of proper mathematical symbols is possible using a markdown cell in Jupyter.  Even though it might be challenging to understand the notation at first, take a look at the following examples, and note how they are written using markdown.  \n",
    "  \n",
    "Let's break down the following forumla.\n",
    "  \n",
    "![Figure24](Images/figure24.png)"
   ]
  },
  {
   "cell_type": "markdown",
   "metadata": {
    "deletable": false,
    "editable": false,
    "run_control": {
     "frozen": true
    }
   },
   "source": [
    "The first thing that we need to do is to specify that we are going to be adding a formula in markdown.  We do this by typing either one or two dollar signs.  Using a single dollar sign will display the formula next to your other text, like this:  $a^2 + b^2 = c^2$, whereas using two dollar signs will display the formula centered on a new line, like this:  $$a^2 + b^2 = c^2$$ \n",
    "  \n",
    "Let's begin explaining the markdown for our example formula above.  It begins like this:  \n",
    "  \n",
    "![Figure 13](Images/figure13.png)  \n",
    "  \n",
    "Next, we add the items in the formula from left to right.  The notation for most keywords are straightforward.  A carat symbol points up, and therefore a superscript is preceded by a carat.  Similarly, an underscore sits at the bottom of a character, and therefore subscript is preceded by an underscore.  To begin, we need to add R sub t.  Simply type the base, followed by an underscore, and then the subscript immediately afterward.  \n",
    "  \n",
    "Therefore, the markdown up through this section of the formula is this:  \n",
    "  \n",
    "![Figure 14](Images/figure14.png) \n",
    "  \n",
    "We then add the equal sign, bringing our markdown to this:  \n",
    "  \n",
    "![Figure 15](Images/figure15.png) \n",
    "  \n",
    "Followed by some simple arithmetic:  \n",
    "  \n",
    "![Figure 16](Images/figure16.png) \n",
    "  \n",
    "Now things begin to get scary **(not really).**  \n",
    "  \n",
    "To add the symbol for summation we need to use a keyword.  Keywords are preceded by a backslash.  Type backslash and then sum_:  \n",
    "![Figure 17](Images/figure17.png)\n",
    "  \n",
    "We enclose the items of a keyword using a set of curly braces.  We will do this to add the rest of the items to the summation.  We start by adding the bottom, inside its own set of brackets:  \n",
    "  \n",
    "![Figure 18](Images/figure18.png)\n",
    "  \n",
    "To add the top of the summation, we add a carat after the closing bracket, and then the last value of our summation--in this case, n.  \n",
    "  \n",
    "![Figure 19](Images/figure19.png)\n",
    "  \n",
    "To finish the equation, we will add the sequence.  We begin by entering our parenthesis.  Next, we need display a fraction, and to do that, we use the **\\frac** keyword, followed by two sections of curly braces--one for the numerator and one for the denominator.  We will start by adding the numerator:  \n",
    "  \n",
    "![Figure 20](Images/figure20.png)\n",
    "  \n",
    "Now we will add the denominator inside its own set of curly braces.  First we type the base, followed by an underscore, and then the subscript.  **Notice that in this case, the subscript is contained within its own set of curly braces.**  This is to make sure that the -1 part of the formula appears as subscript, and not as a subtraction operation.  Note the following difference:  \n",
    "  \n",
    "$\\frac{P_i}{P_{i-1}}$ vs $ \\frac{P_i}{P_{i}-1} $  \n",
    "  \n",
    "We complete the denominator with its own closing curly brace.  With the numerator and denominator of the fraction completed, we are left with the following markdown:  \n",
    "  \n",
    "![Figure 21](Images/figure21.png)\n",
    "  \n",
    "The last piece of the sequence is to subtract 1, so we add that now, and then close off the parenthesis:  \n",
    "  \n",
    "![Figure 22](Images/figure22.png)\n",
    "  \n",
    "Finally, we end the notation of our equation by adding two more dollar signs at the end:  \n",
    "  \n",
    "![Figure 23](Images/figure23.png)  \n",
    "  \n",
    "When you run the cell, it should show up like our example above:  \n",
    "  \n",
    "$$ R_t = 100 * \\sum_{i=1}^n (\\frac{P_i}{P_{i-1}}-1) $$\n",
    "  \n",
    "A reference to using proper mathematical notation can be found in [this document](https://www.calvin.edu/~rpruim/courses/s341/S17/from-class/MathinRmd.html?from=singlemessage&isappinstalled=0).  \n",
    "  \n",
    "If you get lost, try to remember that in most cases, anything added after an underscore will be a subscript, and anything after a carat will be a superscript.  Be careful to close all of your curly braces in the right spots, and **don't forget** that these specific answers are in markdown cells, as well as to end the equation notation with two dollar signs!"
   ]
  },
  {
   "cell_type": "markdown",
   "metadata": {
    "deletable": false,
    "editable": false,
    "run_control": {
     "frozen": true
    },
    "tags": [
     "Question"
    ]
   },
   "source": [
    "#### <span class=\"mark\">Task 3.  Recreate the formula above markdown notation</span>   \n",
    "$$A = \\pi r^2$$\n",
    "Hint:  Try using the keyword **\\pi**  \n",
    "Don't forget to run the Markdown cell!"
   ]
  },
  {
   "cell_type": "markdown",
   "metadata": {
    "tags": [
     "Answer"
    ]
   },
   "source": [
    "$$Double\\ click\\ here,\\ and\\ then\\ replace\\ with\\ your\\ answer$$"
   ]
  },
  {
   "cell_type": "markdown",
   "metadata": {
    "deletable": false,
    "editable": false,
    "run_control": {
     "frozen": true
    },
    "tags": [
     "Question"
    ]
   },
   "source": [
    "#### <span class=\"mark\">Task 4.  Recreate the following formula using markdown notation</span>  \n",
    "$$d = \\sqrt{(x_1 - x_2)^2 + (y_1 - y_2)^2}$$  \n",
    "Hint:  Try using the keyword **\\sqrt**  \n",
    "Don't forget to run the Markdown cell!"
   ]
  },
  {
   "cell_type": "markdown",
   "metadata": {
    "tags": [
     "Answer"
    ]
   },
   "source": [
    "$$Double\\ click\\ here,\\ and\\ then\\ replace\\ with\\ your\\ answer$$"
   ]
  },
  {
   "cell_type": "markdown",
   "metadata": {
    "deletable": false,
    "editable": false,
    "run_control": {
     "frozen": true
    },
    "tags": [
     "Question"
    ]
   },
   "source": [
    "#### <span class=\"mark\">Task 5.  Recreate the following formula using markdown notation</span>  \n",
    "$$x = \\frac{-b \\pm \\sqrt{b^2 - 4ac}}{2a}$$  \n",
    "Hint:  Try using the keywords **\\pm, \\sqrt, and \\frac**  \n",
    "Don't forget to run the Markdown cell!"
   ]
  },
  {
   "cell_type": "markdown",
   "metadata": {
    "tags": [
     "Answer"
    ]
   },
   "source": [
    "$$Double\\ click\\ here,\\ and\\ then\\ replace\\ with\\ your\\ answer$$"
   ]
  },
  {
   "cell_type": "markdown",
   "metadata": {
    "deletable": false,
    "editable": false,
    "run_control": {
     "frozen": true
    }
   },
   "source": [
    "## 5. Download and submit to Sakai  \n",
    "  \n",
    "Rename the title of the notebook using your UVID.  Make sure you save afterwards.  Click File --> Download As --> HTML (.html)  \n",
    "#### <span class=\"mark\">Task 6.  Attach and submit to Sakai</span>"
   ]
  }
 ],
 "metadata": {
  "celltoolbar": "Tags",
  "kernelspec": {
   "display_name": "Python 3",
   "language": "python",
   "name": "python3"
  },
  "language_info": {
   "codemirror_mode": {
    "name": "ipython",
    "version": 3
   },
   "file_extension": ".py",
   "mimetype": "text/x-python",
   "name": "python",
   "nbconvert_exporter": "python",
   "pygments_lexer": "ipython3",
   "version": "3.6.3"
  },
  "toc": {
   "base_numbering": 1,
   "nav_menu": {
    "height": "425px",
    "width": "428px"
   },
   "number_sections": false,
   "sideBar": true,
   "skip_h1_title": false,
   "title_cell": "Table of Contents",
   "title_sidebar": "Contents",
   "toc_cell": false,
   "toc_position": {
    "height": "calc(100% - 180px)",
    "left": "10px",
    "top": "150px",
    "width": "336px"
   },
   "toc_section_display": true,
   "toc_window_display": true
  },
  "varInspector": {
   "cols": {
    "lenName": 16,
    "lenType": 16,
    "lenVar": 40
   },
   "kernels_config": {
    "python": {
     "delete_cmd_postfix": "",
     "delete_cmd_prefix": "del ",
     "library": "var_list.py",
     "varRefreshCmd": "print(var_dic_list())"
    },
    "r": {
     "delete_cmd_postfix": ") ",
     "delete_cmd_prefix": "rm(",
     "library": "var_list.r",
     "varRefreshCmd": "cat(var_dic_list()) "
    }
   },
   "position": {
    "height": "144px",
    "left": "1131px",
    "right": "20px",
    "top": "119px",
    "width": "350px"
   },
   "types_to_exclude": [
    "module",
    "function",
    "builtin_function_or_method",
    "instance",
    "_Feature"
   ],
   "window_display": false
  }
 },
 "nbformat": 4,
 "nbformat_minor": 2
}
