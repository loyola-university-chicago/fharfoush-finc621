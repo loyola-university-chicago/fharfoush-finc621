{
 "cells": [
  {
   "cell_type": "markdown",
   "metadata": {
    "deletable": false,
    "editable": false,
    "run_control": {
     "frozen": true
    }
   },
   "source": [
    "# FINC621 Winter 2018-2019 Lab Worksheet 1  \n",
    "  **Exploration of python in Finance**  \n",
    "  Fady Harfoush  \n",
    "  November 20, 2018  \n",
    "    \n",
    "## About  \n",
    "  \n",
    "This worksheet is your warm-up exercise to getting started with some python for finance, based on examples from the book.  It is also your warm-up with problem solving (no python required) and expressing your methods/answers using proper mathematical symbols and representations.  \n",
    "  \n",
    "## Setup\n",
    "\n",
    "Remember to always ensure that the notebook is trusted when you open it.  To do this, look at the top right hand side of the window for the **[Trusted / Not Trusted button]**.  If the notebook is not trusted, click the button to trust the notebook.  \n",
    "  \n",
    "![Figure13](Images/figure13.png)\n",
    "  \n",
    "Read the instructions carefully, complete the tasks, and answer any questions.  Submit your notebook to Sakai as is detailed in the syllabus.   \n",
    "  \n",
    "## Important Notes\n",
    "  \n",
    "For clarity, questions that need to be completed are highlighted in yellow and red color.  As a general rule of thumb, you need to execute the cells in the notebook sequentially.  If something isn't working, it's never a bad idea to click **Kernel** from the file menu, and then **Reset & Clear Output**.  \n",
    "  \n",
    "![Figure 14](Images/figure14.png)  \n",
    "  \n",
    "When finished, download the file as a Notebook(.ipynb) and submit to Sakai.  Be sure to use following the naming convention:  UVID_FINC621_Lab##.ipynb  \n",
    "  \n",
    "For instance, if I were to be submitting the file, it should be named:  fharfoush_FINC621_Lab01.ipynb  \n",
    "  \n",
    "**Any signs of plagiarism will results in dismissal of work!**\n",
    "  \n",
    "  ---"
   ]
  },
  {
   "cell_type": "markdown",
   "metadata": {
    "deletable": false,
    "editable": false,
    "run_control": {
     "frozen": true
    }
   },
   "source": [
    "## 1.  Simple Python\n",
    "  We begin by importing the required python packages.  This is done in a new code block."
   ]
  },
  {
   "cell_type": "code",
   "execution_count": null,
   "metadata": {
    "deletable": false,
    "editable": false
   },
   "outputs": [],
   "source": [
    "# Package imports\n",
    "import datetime as dt\n",
    "import numpy as np\n",
    "import matplotlib.pyplot as plt\n",
    "import matplotlib.dates as mdates\n",
    "import pandas as pd\n",
    "import pandas_datareader.data as web\n",
    "import seaborn\n",
    "\n",
    "# This is to import a local file from our filesystem\n",
    "import sys\n",
    "sys.path.insert(0, './Dependencies')\n",
    "from mpl_finance import candlestick_ohlc\n"
   ]
  },
  {
   "cell_type": "markdown",
   "metadata": {
    "deletable": false,
    "editable": false,
    "run_control": {
     "frozen": true
    }
   },
   "source": [
    "Now we are going to retrieve the historical data for the stock **GE**.  In the following section, change the python variables to values that pull **GE** data from **yahoo**, with a start date of **1/1/2000** to an end date of **12/31/2009**.\n",
    "\n",
    "#### <span class=\"mark\">Question 1:  Edit the python code below according to the instructions above.</span>  "
   ]
  },
  {
   "cell_type": "code",
   "execution_count": null,
   "metadata": {},
   "outputs": [],
   "source": [
    "# Setup variables\n",
    "data_source = 'yahoo'\n",
    "stock_symbol = 'TICKER SYMBOL'\n",
    "start = dt.datetime(, ,)  # Hint:  dt.datetime(y, m, d)\n",
    "end = dt.datetime(, ,)"
   ]
  },
  {
   "cell_type": "markdown",
   "metadata": {
    "deletable": false,
    "editable": false,
    "run_control": {
     "frozen": true
    }
   },
   "source": [
    "**Now we will print out the first few lines of data.**"
   ]
  },
  {
   "cell_type": "code",
   "execution_count": null,
   "metadata": {
    "deletable": false,
    "editable": false,
    "scrolled": false
   },
   "outputs": [],
   "source": [
    "data = web.DataReader(stock_symbol, data_source, start, end)\n",
    "print(data.head())"
   ]
  },
  {
   "cell_type": "markdown",
   "metadata": {
    "deletable": false,
    "editable": false,
    "run_control": {
     "frozen": true
    }
   },
   "source": [
    "**Let's grab just the adjusted close values**"
   ]
  },
  {
   "cell_type": "code",
   "execution_count": null,
   "metadata": {
    "deletable": false,
    "editable": false
   },
   "outputs": [],
   "source": [
    "ac_data = pd.DataFrame(data, columns=['Adj Close'])"
   ]
  },
  {
   "cell_type": "markdown",
   "metadata": {
    "deletable": false,
    "editable": false,
    "run_control": {
     "frozen": true
    }
   },
   "source": [
    "**Next, let's add python code to find the maximum adjusted close price**"
   ]
  },
  {
   "cell_type": "code",
   "execution_count": null,
   "metadata": {
    "deletable": false,
    "editable": false
   },
   "outputs": [],
   "source": [
    "print(ac_data.max())"
   ]
  },
  {
   "cell_type": "markdown",
   "metadata": {
    "deletable": false,
    "editable": false,
    "run_control": {
     "frozen": true
    }
   },
   "source": [
    "#### <span class=\"mark\">Question 2:  Add python code below to print out the adjusted close minimum price.</span>"
   ]
  },
  {
   "cell_type": "code",
   "execution_count": null,
   "metadata": {},
   "outputs": [],
   "source": [
    "# Insert code here"
   ]
  },
  {
   "cell_type": "markdown",
   "metadata": {
    "deletable": false,
    "editable": false,
    "run_control": {
     "frozen": true
    }
   },
   "source": [
    "#### <span class=\"mark\">Question 3:  Add python code below to print out the adjusted close mean price.</span>"
   ]
  },
  {
   "cell_type": "code",
   "execution_count": null,
   "metadata": {},
   "outputs": [],
   "source": [
    "# Insert code here"
   ]
  },
  {
   "cell_type": "markdown",
   "metadata": {
    "deletable": false,
    "editable": false,
    "run_control": {
     "frozen": true
    }
   },
   "source": [
    "**Finally, we can graph the data with the following python code**"
   ]
  },
  {
   "cell_type": "code",
   "execution_count": null,
   "metadata": {
    "deletable": false,
    "editable": false
   },
   "outputs": [],
   "source": [
    "# Make the plot look good\n",
    "plt.style.use('seaborn-darkgrid')\n",
    "\n",
    "# Put our data into a plot\n",
    "ac_data.plot(figsize = (12,9))\n",
    "\n",
    "# Set the plot options\n",
    "plt.title(\"GE Adjusted Close Price\")\n",
    "plt.ylabel(\"Price of stock\")\n",
    "plt.xlabel(\"Date\")"
   ]
  },
  {
   "cell_type": "markdown",
   "metadata": {
    "deletable": false,
    "editable": false,
    "run_control": {
     "frozen": true
    }
   },
   "source": [
    "**Now let's modify our start/end times and pull a different set of GE data**"
   ]
  },
  {
   "cell_type": "code",
   "execution_count": null,
   "metadata": {
    "deletable": false,
    "editable": false
   },
   "outputs": [],
   "source": [
    "start = dt.datetime(2009,10,1)\n",
    "end = dt.datetime(2009,12,31)\n",
    "data = web.DataReader(stock_symbol, data_source, start, end)\n",
    "\n",
    "# The .resample('5D') method forms the data into 5 day chunks\n",
    "ac_data = pd.DataFrame(data, columns=['Adj Close']).resample('5D').ohlc()\n",
    "\n",
    "# We bump the columns over, and use the current index as a new column\n",
    "ac_data.reset_index(inplace=True)\n",
    "\n",
    "# Now we map the date column to numbers for graphing\n",
    "ac_data['Date'] = ac_data['Date'].map(mdates.date2num)"
   ]
  },
  {
   "cell_type": "markdown",
   "metadata": {
    "deletable": false,
    "editable": false,
    "run_control": {
     "frozen": true
    }
   },
   "source": [
    "**Finally, we graph the new data as a candlestick graph**"
   ]
  },
  {
   "cell_type": "code",
   "execution_count": null,
   "metadata": {
    "deletable": false,
    "editable": false
   },
   "outputs": [],
   "source": [
    "plt.figure(figsize = (12,9))\n",
    "ax1 = plt.subplot2grid((6,1),(0,0), rowspan=5, colspan=1)\n",
    "ax1.xaxis_date()\n",
    "candlestick_ohlc(ax1, ac_data.values, width=1, colorup='g')"
   ]
  },
  {
   "cell_type": "markdown",
   "metadata": {
    "deletable": false,
    "editable": false,
    "run_control": {
     "frozen": true
    }
   },
   "source": [
    "## 2.  Comparing Performance of Stocks Time Series\n",
    "\n",
    "Choose 4 stocks and compare the Value Line Index(VLIC) to them.  Use a time period dating back one year form the present date.  "
   ]
  },
  {
   "cell_type": "markdown",
   "metadata": {
    "deletable": false,
    "editable": false,
    "run_control": {
     "frozen": true
    }
   },
   "source": [
    "#### <span class=\"mark\">Question 4:  Edit the following python code to choose 4 stocks.</span>  "
   ]
  },
  {
   "cell_type": "code",
   "execution_count": null,
   "metadata": {},
   "outputs": [],
   "source": [
    "# Python array.\n",
    "tickers = ['^VLIC', 'TICKER SYMBOL 1', 'TICKER SYMBOL 2', 'TICKER SYMBOL 3', 'TICKER SYMBOL 4']"
   ]
  },
  {
   "cell_type": "code",
   "execution_count": null,
   "metadata": {},
   "outputs": [],
   "source": [
    "# Set the start and end times\n",
    "start = dt.datetime(, ,)\n",
    "end = dt.datetime(, ,)\n",
    "data = web.DataReader(tickers, data_source, start, end)"
   ]
  },
  {
   "cell_type": "code",
   "execution_count": null,
   "metadata": {},
   "outputs": [],
   "source": [
    "# Isolate the adjusted closing prices\n",
    "ac_data = pd.DataFrame(data['Adj Close'])"
   ]
  },
  {
   "cell_type": "code",
   "execution_count": null,
   "metadata": {
    "scrolled": true
   },
   "outputs": [],
   "source": [
    "# Iterate through the data, by stock symbol\n",
    "for stock in ac_data:\n",
    "    item = np.cumsum(ac_data[stock].pct_change() * 100)  # Calculate the cumulative sum\n",
    "    item.plot(figsize=(12,9))  # Plot the result\n",
    "    \n",
    "# Set chart options\n",
    "plt.title(\"Stocks Cumulative Simple Return\")\n",
    "plt.xlabel(\"Period of Stocks\")\n",
    "plt.ylabel(\"Cumulative Simple Return * 100\")\n",
    "plt.show()"
   ]
  },
  {
   "cell_type": "markdown",
   "metadata": {
    "deletable": false,
    "editable": false,
    "run_control": {
     "frozen": true
    }
   },
   "source": [
    "## 3.  Problem Solving\n",
    "  \n",
    "This task does not require the use of any python code.  You will need to type your work here however, using mathematical symbols and representations.  As an alternative, you may capture a clear image of your work and attach to Sakai.  I strongly prefer work that is correctly typed directly into the notebook.  \n",
    "  \n",
    "#### <span class=\"mark\">Question 5:  Textbook, pg 36, Problem 1.3.8</span>  \n",
    "  \n",
    "Use the replicating portfolio method (Example 1.11, pg 27) to estimate the current value of a six-month call option on a stock with the following characteristics.  The current price is &euro;25 , the exercise price is &euro;20, at exercise time it is estimated that the stock will be in the range of &euro;15 to &euro;40, and the six-month risk-free interest rate is 5%.  Also, compute the value of the corresponding put option using the put-call parity relation."
   ]
  },
  {
   "cell_type": "markdown",
   "metadata": {},
   "source": [
    "$$Double\\ click\\ here,\\ and\\ then\\ replace\\ with\\ your\\ answer$$"
   ]
  },
  {
   "cell_type": "markdown",
   "metadata": {
    "deletable": false,
    "editable": false,
    "run_control": {
     "frozen": true
    }
   },
   "source": [
    "#### <span class=\"mark\">Question 6:  Textbook, pg 36, Problem 1.3.9</span>  \n",
    "  \n",
    "In example 1.11 we encounter the *option delta* (for a call), which is computed as the quotient of the spread of possible option prices over the spread of possible share prices Eq. (1.22).  Denote this quantity $\\Delta c$, and we have seen that it gives the number of shares needed to replicate a call option.  Define analogously $\\Delta p$ to be the option delta for a put, and show that for a call and a put European options on the same stock and with the same strike price, $\\Delta p = \\Delta c - 1$.  (Hint: use the put-call parity for European options.)"
   ]
  },
  {
   "cell_type": "markdown",
   "metadata": {},
   "source": [
    "$$Double\\ click\\ here,\\ and\\ then\\ replace\\ with\\ your\\ answer$$"
   ]
  }
 ],
 "metadata": {
  "kernelspec": {
   "display_name": "Python 3",
   "language": "python",
   "name": "python3"
  },
  "language_info": {
   "codemirror_mode": {
    "name": "ipython",
    "version": 3
   },
   "file_extension": ".py",
   "mimetype": "text/x-python",
   "name": "python",
   "nbconvert_exporter": "python",
   "pygments_lexer": "ipython3",
   "version": "3.7.3"
  },
  "toc": {
   "base_numbering": 1,
   "nav_menu": {
    "height": "425px",
    "width": "428px"
   },
   "number_sections": false,
   "sideBar": true,
   "skip_h1_title": false,
   "title_cell": "Table of Contents",
   "title_sidebar": "Contents",
   "toc_cell": false,
   "toc_position": {
    "height": "calc(100% - 180px)",
    "left": "10px",
    "top": "150px",
    "width": "336px"
   },
   "toc_section_display": true,
   "toc_window_display": true
  },
  "varInspector": {
   "cols": {
    "lenName": 16,
    "lenType": 16,
    "lenVar": 40
   },
   "kernels_config": {
    "python": {
     "delete_cmd_postfix": "",
     "delete_cmd_prefix": "del ",
     "library": "var_list.py",
     "varRefreshCmd": "print(var_dic_list())"
    },
    "r": {
     "delete_cmd_postfix": ") ",
     "delete_cmd_prefix": "rm(",
     "library": "var_list.r",
     "varRefreshCmd": "cat(var_dic_list()) "
    }
   },
   "position": {
    "height": "144px",
    "left": "1131px",
    "right": "20px",
    "top": "119px",
    "width": "350px"
   },
   "types_to_exclude": [
    "module",
    "function",
    "builtin_function_or_method",
    "instance",
    "_Feature"
   ],
   "window_display": false
  }
 },
 "nbformat": 4,
 "nbformat_minor": 2
}
